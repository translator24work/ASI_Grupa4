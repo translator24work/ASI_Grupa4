{
  "cells": [
    {
      "cell_type": "markdown",
      "metadata": {
        "id": "Pjnd6KGh82p_",
        "pycharm": {
          "name": "#%% md\n"
        }
      },
      "source": [
        "### ***Wczytanie danych***\n",
        "https://www.kaggle.com/datasets/mylesoneill/world-university-rankings\n",
        "\n",
        "Dane które wybraliśmy dotyczą rankingu uczelni wyższych. Celem analizy jest wyłonić najlepszy uniwersytet w ramach całego świata."
      ]
    },
    {
      "cell_type": "code",
      "execution_count": null,
      "metadata": {
        "id": "lx0Vl8l1BLzg",
        "pycharm": {
          "name": "#%%\n"
        }
      },
      "outputs": [],
      "source": [
        "import numpy as np\n",
        "import pandas as pd\n",
        "\n",
        "\n",
        "df = pd.read_csv(\"cwurData.csv\", index_col=False)\n",
        "\n",
        "df.head()"
      ]
    },
    {
      "cell_type": "markdown",
      "metadata": {
        "id": "OAEWQ09ZB5my",
        "pycharm": {
          "name": "#%% md\n"
        }
      },
      "source": [
        "### ***Opis zmiennych***"
      ]
    },
    {
      "cell_type": "code",
      "execution_count": null,
      "metadata": {
        "id": "AvXh33EK9vhr",
        "pycharm": {
          "name": "#%%\n"
        }
      },
      "outputs": [],
      "source": [
        "df.info()"
      ]
    },
    {
      "cell_type": "markdown",
      "metadata": {
        "id": "R0GO_BDhX9BA",
        "pycharm": {
          "name": "#%% md\n"
        }
      },
      "source": [
        "###*Podział zmiennych na kategoryczne / numeryczne*"
      ]
    },
    {
      "cell_type": "code",
      "execution_count": null,
      "metadata": {
        "id": "tXSB40PDCKq_",
        "pycharm": {
          "name": "#%%\n"
        }
      },
      "outputs": [],
      "source": [
        "categorical = [var for var in df.columns if df[var].dtype == 'O']\n",
        "numerical = [var for var in df.columns if df[var].dtype != 'O']\n",
        "\n",
        "df[categorical].isnull().sum()"
      ]
    },
    {
      "cell_type": "code",
      "execution_count": null,
      "metadata": {
        "id": "WbsxepUORjAL",
        "pycharm": {
          "name": "#%%\n"
        }
      },
      "outputs": [],
      "source": [
        "df[numerical].isnull().sum()"
      ]
    },
    {
      "cell_type": "markdown",
      "metadata": {
        "id": "jlBCNJLwYMGo",
        "pycharm": {
          "name": "#%% md\n"
        }
      },
      "source": [
        "###*Usunięcie rekordów które zawierają niepoprawną wartość w kolumnie 'broad_impact'*"
      ]
    },
    {
      "cell_type": "code",
      "execution_count": null,
      "metadata": {
        "id": "rODq1rflRyUh",
        "pycharm": {
          "name": "#%%\n"
        }
      },
      "outputs": [],
      "source": [
        "df = df.dropna(axis=0, subset=['broad_impact'])\n",
        "df[numerical].isnull().sum()"
      ]
    },
    {
      "cell_type": "markdown",
      "metadata": {
        "id": "5TvuNfC1YVWH",
        "pycharm": {
          "name": "#%% md\n"
        }
      },
      "source": [
        "###*Teraz nasz data-set jest już oczyszczony ze zbędnych rekordów*"
      ]
    },
    {
      "cell_type": "code",
      "execution_count": null,
      "metadata": {
        "id": "RA2iblUTSbPA",
        "pycharm": {
          "name": "#%%\n"
        }
      },
      "outputs": [],
      "source": [
        "df.info()"
      ]
    },
    {
      "cell_type": "markdown",
      "metadata": {
        "id": "ugd6kfmiT7iR",
        "pycharm": {
          "name": "#%% md\n"
        }
      },
      "source": [
        "###*Oddzielenie kolumny która determinuję pozycję uczelni od reszty zmiennych*"
      ]
    },
    {
      "cell_type": "code",
      "execution_count": null,
      "metadata": {
        "id": "jMfkDOqSShxo",
        "pycharm": {
          "name": "#%%\n"
        }
      },
      "outputs": [],
      "source": [
        "X = df.drop(['world_rank'], axis=1)\n",
        "y = df['world_rank']"
      ]
    },
    {
      "cell_type": "markdown",
      "metadata": {
        "id": "Ud-pkO25U1Tc",
        "pycharm": {
          "name": "#%% md\n"
        }
      },
      "source": [
        "###*Podział na zbiory treningowy / testowy + Trenowanie modelu*"
      ]
    },
    {
      "cell_type": "code",
      "execution_count": null,
      "metadata": {
        "id": "yAujAZQjYRnY"
      },
      "outputs": [],
      "source": [
        "from sklearn.model_selection import train_test_split\n",
        "from sklearn.ensemble import RandomForestRegressor\n",
        "from sklearn.metrics import mean_squared_error\n",
        "\n",
        "# Podzial na zbior treningowy i testowy (np. 80% danych do treningu, 20% do testow)\n",
        "X_train, X_test, y_train, y_test = train_test_split(X, y, test_size=0.2, random_state=42)\n",
        "\n",
        "# Inicjalizacja modelu regresji losowego lasu (Random Forest Regressor)\n",
        "model = RandomForestRegressor(random_state=42)\n",
        "\n",
        "# Trenowanie modelu na danych treningowych\n",
        "model.fit(X_train, y_train)\n",
        "\n",
        "# Przewidywanie na danych testowych\n",
        "predictions = model.predict(X_test)\n",
        "\n",
        "# Obliczanie bledu sredniokwadratowego (MSE) jako miary jakosci modelu\n",
        "mse = mean_squared_error(y_test, predictions)\n",
        "print(\"Mean Squared Error:\", mse)\n"
      ]
    }
  ],
  "metadata": {
    "colab": {
      "provenance": []
    },
    "kernelspec": {
      "display_name": "Python 3",
      "name": "python3"
    },
    "language_info": {
      "name": "python"
    }
  },
  "nbformat": 4,
  "nbformat_minor": 0
}
